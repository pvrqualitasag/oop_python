{
  "nbformat": 4,
  "nbformat_minor": 0,
  "metadata": {
    "colab": {
      "provenance": [],
      "authorship_tag": "ABX9TyMvDOlrjMFdBlZ/W16lXRbX",
      "include_colab_link": true
    },
    "kernelspec": {
      "name": "python3",
      "display_name": "Python 3"
    },
    "language_info": {
      "name": "python"
    }
  },
  "cells": [
    {
      "cell_type": "markdown",
      "metadata": {
        "id": "view-in-github",
        "colab_type": "text"
      },
      "source": [
        "<a href=\"https://colab.research.google.com/github/pvrqualitasag/oop_python/blob/main/ObjectOrientedProgrammingPython.ipynb\" target=\"_parent\"><img src=\"https://colab.research.google.com/assets/colab-badge.svg\" alt=\"Open In Colab\"/></a>"
      ]
    },
    {
      "cell_type": "code",
      "execution_count": null,
      "metadata": {
        "id": "ad0me7K3Bh9X"
      },
      "outputs": [],
      "source": []
    },
    {
      "cell_type": "markdown",
      "source": [
        "# Object-Oriented Programming in Python\n",
        "The basics of object-oriented programming (OOP) are described. The concept is illustrated and applied with simple examples in Python.\n",
        "\n",
        "## Introduction\n",
        "The technique of OOP describes a specific way how data are modeled and algorithms are designed to solve a specifc problem. In OOP developers put more emphasis on the data compared to other programming techniques where either the sequence of the different operations or the data manipulation are at the center of attention.\n",
        "\n",
        "\n",
        "## Objects\n",
        "That means in OOP, data are represented by so-called objects. From a programatical point of view, objects can be viewed as some sort of user-designed or user-created data types.\n",
        "\n",
        "Objects consist of two different componetents:\n",
        "\n",
        "1. Fields or attributes\n",
        "2. Methods\n",
        "\n",
        "In a given object, attributes are used to represent properties or characteristics of the data which are modeled by that respective object. Methods are used to change attributes or to interact with other objects.\n",
        "\n",
        "\n",
        "## A First Example\n",
        "\n",
        "\n"
      ],
      "metadata": {
        "id": "SxcmmYgaBsrL"
      }
    },
    {
      "cell_type": "code",
      "source": [],
      "metadata": {
        "id": "LsvojVY_BvCC"
      },
      "execution_count": null,
      "outputs": []
    }
  ]
}