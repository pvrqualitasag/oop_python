{
  "nbformat": 4,
  "nbformat_minor": 0,
  "metadata": {
    "colab": {
      "provenance": [],
      "authorship_tag": "ABX9TyM3nvA28j2CAFHW0xvjxFpn",
      "include_colab_link": true
    },
    "kernelspec": {
      "name": "python3",
      "display_name": "Python 3"
    },
    "language_info": {
      "name": "python"
    }
  },
  "cells": [
    {
      "cell_type": "markdown",
      "metadata": {
        "id": "view-in-github",
        "colab_type": "text"
      },
      "source": [
        "<a href=\"https://colab.research.google.com/github/pvrqualitasag/oop_python/blob/main/ObjectOrientedProgrammingPython.ipynb\" target=\"_parent\"><img src=\"https://colab.research.google.com/assets/colab-badge.svg\" alt=\"Open In Colab\"/></a>"
      ]
    },
    {
      "cell_type": "code",
      "source": [
        "from datetime import datetime"
      ],
      "metadata": {
        "id": "wqpYCQElQ8gi"
      },
      "execution_count": 1,
      "outputs": []
    },
    {
      "cell_type": "markdown",
      "source": [
        "# Object-Oriented Programming in Python\n",
        "The basics of object-oriented programming (OOP) are described. The concept is illustrated and applied with simple examples in Python.\n",
        "\n",
        "## Introduction\n",
        "The technique of OOP describes a specific way how data are modeled and algorithms are designed to solve a specifc problem. In OOP developers put more emphasis on the data compared to other programming techniques where either the sequence of the different operations or the data manipulation are at the center of attention.\n",
        "\n",
        "\n",
        "## Objects\n",
        "That means in OOP, data are represented by so-called objects. From a programatical point of view, objects can be viewed as some sort of user-designed or user-created data types.\n",
        "\n",
        "Objects consist of two different componetents:\n",
        "\n",
        "1. Fields or attributes\n",
        "2. Methods\n",
        "\n",
        "In a given object, attributes are used to represent properties or characteristics of the data which are modeled by that respective object. Methods are used to change attributes or to interact with other objects.\n",
        "\n",
        "\n",
        "## A First Example\n",
        "As a first example, we are writing a program that can be used to manage some data on livestock animals. This data consists of the following characteristics of each animal\n",
        "\n",
        "* Name\n",
        "* ID\n",
        "* Birthdate\n",
        "* Sire-ID\n",
        "* Dam-ID\n",
        "\n",
        "These information items might be obtained from a database or from an input file. In what follows here, we are not going to go into much more details on how this information is made available for our program. We are going to put the main focus on two different ways how the information about animals might be represented in a program. The term __represenation__ of information means how the different information of an animal is stored in our program.\n",
        "\n",
        "\n",
        "## Non-OOP Data Representation\n",
        "We start by using a non-oop representation of the data available for different animals.\n",
        "\n",
        "### Data in Separate Variables\n",
        "The most straight-forward way of representing animal data is to use separate variables for each characteristic. This is shown in the code block below."
      ],
      "metadata": {
        "id": "SxcmmYgaBsrL"
      }
    },
    {
      "cell_type": "code",
      "source": [
        "ani1_name = \"Berta\"\n",
        "ani1_id = \"CH120.00.010\"\n",
        "ani1_birthdate = \"20230321\"\n",
        "ani1_sire_id = \"CH120.00.01\"\n",
        "ani1_dam_id = \"CH120.00.05\""
      ],
      "metadata": {
        "id": "LsvojVY_BvCC"
      },
      "execution_count": 2,
      "outputs": []
    },
    {
      "cell_type": "markdown",
      "source": [
        "The above chosen data representation does not use any advanced programming concepts or any advanced data structures. It is just five string variables which is a very slim representation of the available data. A second animal can be shown by just copy-paste the information of the first animal and change the required values and the variable names."
      ],
      "metadata": {
        "id": "lfuTTMbiH7v8"
      }
    },
    {
      "cell_type": "code",
      "source": [
        "ani2_name = \"Emil\"\n",
        "ani2_id = \"CH120.00.011\"\n",
        "ani2_birthdate = \"20221101\"\n",
        "ani2_sire_id = \"CH120.00.02\"\n",
        "ani2_dam_id = \"CH120.00.06\""
      ],
      "metadata": {
        "id": "yyZbl_vGH3Vv"
      },
      "execution_count": 3,
      "outputs": []
    },
    {
      "cell_type": "markdown",
      "source": [
        "### Working With Data\n",
        "The above data on two animals can be manipulated or presented by functions. If we wanted to show the information on the two animals in a CSV-format, we can do this using the following function `to_csv()`."
      ],
      "metadata": {
        "id": "W1jHNoZxMMha"
      }
    },
    {
      "cell_type": "code",
      "source": [
        "def output_to_csv(ps_ani_name, ps_ani_id, ps_ani_birthdate, ps_ani_sire_id, ps_ani_dam_id):\n",
        "  s_sep_char = \",\"\n",
        "  s_result_char = ps_ani_name + s_sep_char + ps_ani_id + s_sep_char + ps_ani_birthdate + s_sep_char + ps_ani_sire_id + s_sep_char + ps_ani_dam_id\n",
        "  print(s_result_char)\n"
      ],
      "metadata": {
        "id": "b2TJd4ozI_R5"
      },
      "execution_count": 4,
      "outputs": []
    },
    {
      "cell_type": "markdown",
      "source": [
        "For the two animal defined so far, the function can be called as follows."
      ],
      "metadata": {
        "id": "FFs_jxrQNmQk"
      }
    },
    {
      "cell_type": "code",
      "source": [
        "output_to_csv(ps_ani_name = ani1_name, ps_ani_id = ani1_id, ps_ani_birthdate = ani1_birthdate, ps_ani_sire_id = ani1_sire_id, ps_ani_dam_id = ani1_dam_id)"
      ],
      "metadata": {
        "colab": {
          "base_uri": "https://localhost:8080/"
        },
        "id": "5TFSCTi4NxNn",
        "outputId": "27ff4146-4552-475a-fbe4-7eae2dc8e88d"
      },
      "execution_count": 5,
      "outputs": [
        {
          "output_type": "stream",
          "name": "stdout",
          "text": [
            "Berta,CH120.00.010,20230321,CH120.00.01,CH120.00.05\n"
          ]
        }
      ]
    },
    {
      "cell_type": "markdown",
      "source": [
        "Similarly for the second animal"
      ],
      "metadata": {
        "id": "BEfINbkbOvlh"
      }
    },
    {
      "cell_type": "code",
      "source": [
        "output_to_csv(ps_ani_name = ani2_name, ps_ani_id = ani2_id, ps_ani_birthdate = ani2_birthdate, ps_ani_sire_id = ani2_sire_id, ps_ani_dam_id = ani2_dam_id)"
      ],
      "metadata": {
        "colab": {
          "base_uri": "https://localhost:8080/"
        },
        "id": "VWhBqOpKOyv2",
        "outputId": "d5bae923-3a53-437a-dbfc-2d07b1f27cc8"
      },
      "execution_count": 6,
      "outputs": [
        {
          "output_type": "stream",
          "name": "stdout",
          "text": [
            "Emil,CH120.00.011,20221101,CH120.00.02,CH120.00.06\n"
          ]
        }
      ]
    },
    {
      "cell_type": "markdown",
      "source": [
        "A more meaningful function might be the computation of the age of the animal in days. One possible function to do this is shown below."
      ],
      "metadata": {
        "id": "MYGQY4_XO-IQ"
      }
    },
    {
      "cell_type": "code",
      "source": [
        "import datetime\n",
        "def compute_age_in_days(ps_birth_date, ps_format = \"%Y%m%d\"):\n",
        "  dt_birth_date = datetime.datetime.strptime(ps_birth_date, ps_format).date()\n",
        "  delta = datetime.datetime.now().date() - dt_birth_date\n",
        "  return(delta.days)"
      ],
      "metadata": {
        "id": "uWdJn-rzQAxa"
      },
      "execution_count": 7,
      "outputs": []
    },
    {
      "cell_type": "markdown",
      "source": [
        "The age in days for the two animals is obtained by"
      ],
      "metadata": {
        "id": "BMRzsWT8Rcks"
      }
    },
    {
      "cell_type": "code",
      "source": [
        "print(compute_age_in_days(ps_birth_date = ani1_birthdate))\n",
        "print(compute_age_in_days(ps_birth_date = ani2_birthdate))\n"
      ],
      "metadata": {
        "colab": {
          "base_uri": "https://localhost:8080/"
        },
        "id": "N4vN6iIERhK5",
        "outputId": "2b2ba294-1fcd-4cb5-ad0d-ba0e9ed80f47"
      },
      "execution_count": 8,
      "outputs": [
        {
          "output_type": "stream",
          "name": "stdout",
          "text": [
            "378\n",
            "518\n"
          ]
        }
      ]
    },
    {
      "cell_type": "markdown",
      "source": [
        "### Conclusion\n",
        "The representation of animal data using separate variables allows to develop simple prototypes very quickly. The data can be manipulated using functions. The drawback of this approach is that there is no explicit grouping of the inforamtion for a given animal.\n",
        "\n",
        "Furthermore, the above shown approach to store and to manipulate data does not provide a solution to read information for a large number of animals from a file or from a database."
      ],
      "metadata": {
        "id": "Fc85HFH4VRw1"
      }
    },
    {
      "cell_type": "markdown",
      "source": [
        "## Data in a Dictionary - A First Improvement\n",
        "A first improvement consist of organising the animal data in a dictionary. A dictionary is a very popular and very useful built-in python datastructure. It is based on a 'key=value' architecture. The information on the above animals can be represented in dictionaries as shown below."
      ],
      "metadata": {
        "id": "d7bskDgcWl8s"
      }
    },
    {
      "cell_type": "code",
      "source": [
        "ani1_dict = {\"name\": \"Berta\", \"id\": \"CH120.00.010\", \"birthdate\": \"20230321\", \"sire_id\": \"CH120.00.01\", \"dam_id\": \"CH120.00.05\"}\n",
        "ani2_dict = {\"name\": \"Emil\", \"id\": \"CH120.00.011\", \"birthdate\": \"20221101\", \"sire_id\": \"CH120.00.02\", \"dam_id\": \"CH120.00.06\"}\n"
      ],
      "metadata": {
        "id": "m00SQjmkWiDk"
      },
      "execution_count": 13,
      "outputs": []
    },
    {
      "cell_type": "markdown",
      "source": [
        "The function to output information on animals to csv can be modified in the following way."
      ],
      "metadata": {
        "id": "DCGejEebbUce"
      }
    },
    {
      "cell_type": "code",
      "source": [
        "def output_dict_to_csv(pd_ani_dict):\n",
        "  s_sep_char = \",\"\n",
        "  s_result_char = pd_ani_dict[\"name\"] + s_sep_char + pd_ani_dict[\"id\"] + s_sep_char + pd_ani_dict[\"birthdate\"] + s_sep_char + pd_ani_dict[\"sire_id\"] + s_sep_char + pd_ani_dict[\"dam_id\"]\n",
        "  return(s_result_char)\n",
        "\n",
        "# call for both animals\n",
        "print(output_dict_to_csv(pd_ani_dict = ani1_dict))\n",
        "print(output_dict_to_csv(pd_ani_dict = ani2_dict))"
      ],
      "metadata": {
        "colab": {
          "base_uri": "https://localhost:8080/"
        },
        "id": "wYxWIILqbxTo",
        "outputId": "9773747b-f43f-448a-807f-90894832acd0"
      },
      "execution_count": 18,
      "outputs": [
        {
          "output_type": "stream",
          "name": "stdout",
          "text": [
            "Berta,CH120.00.010,20230321,CH120.00.01,CH120.00.05\n",
            "Emil,CH120.00.011,20221101,CH120.00.02,CH120.00.06\n"
          ]
        }
      ]
    },
    {
      "cell_type": "markdown",
      "source": [
        "The computation of the age in days can be done with the already available function, we just have to modify the call"
      ],
      "metadata": {
        "id": "5VaFbTTDeLMH"
      }
    },
    {
      "cell_type": "code",
      "source": [
        "print(compute_age_in_days(ps_birth_date = ani1_dict[\"birthdate\"]))\n",
        "print(compute_age_in_days(ps_birth_date = ani2_dict[\"birthdate\"]))"
      ],
      "metadata": {
        "colab": {
          "base_uri": "https://localhost:8080/"
        },
        "id": "odhSQBmceVZH",
        "outputId": "e0ae9e65-3429-4081-c56d-7e86e96c4beb"
      },
      "execution_count": 19,
      "outputs": [
        {
          "output_type": "stream",
          "name": "stdout",
          "text": [
            "378\n",
            "518\n"
          ]
        }
      ]
    },
    {
      "cell_type": "markdown",
      "source": [
        "### Conclusion\n",
        "The representation of the animal data in a dictionary is an improvement. The data of a given animal is grouped together in one instance of a dictionary.\n",
        "\n",
        "The disadvantage of using dictionaries to store animal data is that any function that uses a dictionary as an argument, needs to know about the structure of the dictionary. One example of such a function is the above shown function `output_dict_to_csv()`. Inside of that function, the keys of the dictionary must be known. Any change of the keys of the dictionary has consequences to any function that internally uses the keys of the dictionary."
      ],
      "metadata": {
        "id": "4IZ3j012euPj"
      }
    }
  ]
}