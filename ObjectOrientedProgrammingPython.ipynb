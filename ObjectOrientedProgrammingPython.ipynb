{
  "nbformat": 4,
  "nbformat_minor": 0,
  "metadata": {
    "colab": {
      "provenance": [],
      "authorship_tag": "ABX9TyPVmv5Sq28kaYi+tn+kEBOI",
      "include_colab_link": true
    },
    "kernelspec": {
      "name": "python3",
      "display_name": "Python 3"
    },
    "language_info": {
      "name": "python"
    }
  },
  "cells": [
    {
      "cell_type": "markdown",
      "metadata": {
        "id": "view-in-github",
        "colab_type": "text"
      },
      "source": [
        "<a href=\"https://colab.research.google.com/github/pvrqualitasag/oop_python/blob/main/ObjectOrientedProgrammingPython.ipynb\" target=\"_parent\"><img src=\"https://colab.research.google.com/assets/colab-badge.svg\" alt=\"Open In Colab\"/></a>"
      ]
    },
    {
      "cell_type": "code",
      "execution_count": null,
      "metadata": {
        "id": "ad0me7K3Bh9X"
      },
      "outputs": [],
      "source": []
    },
    {
      "cell_type": "markdown",
      "source": [
        "# Object-Oriented Programming in Python\n",
        "The basics of object-oriented programming (OOP) are described. The concept is illustrated and applied with simple examples in Python.\n",
        "\n",
        "## Introduction\n",
        "The technique of OOP describes a specific way how data are modeled and algorithms are designed to solve a specifc problem. In OOP developers put more emphasis on the data compared to other programming techniques where either the sequence of the different operations or the data manipulation are at the center of attention.\n",
        "\n",
        "\n",
        "## Objects\n",
        "That means in OOP, data are represented by so-called objects. From a programatical point of view, objects can be viewed as some sort of user-designed or user-created data types.\n",
        "\n",
        "Objects consist of two different componetents:\n",
        "\n",
        "1. Fields or attributes\n",
        "2. Methods\n",
        "\n",
        "In a given object, attributes are used to represent properties or characteristics of the data which are modeled by that respective object. Methods are used to change attributes or to interact with other objects.\n",
        "\n",
        "\n",
        "## A First Example\n",
        "As a first example, we are writing a program that can be used to manage some data on livestock animals. This data consists of the following characteristics of each animal\n",
        "\n",
        "* Name\n",
        "* ID\n",
        "* Birthdate\n",
        "* Sire-ID\n",
        "* Dam-ID\n",
        "\n",
        "These information items might be obtained from a database or from an input file. In what follows here, we are not going to go into much more details on how this information is made available for our program. We are going to put the main focus on two different ways how the information about animals might be represented in a program. The term __represenation__ of information means how the different information of an animal is stored in our program.\n",
        "\n",
        "\n",
        "## Data Representation\n",
        "We start by using a non-oop representation of the data available for different animals.\n",
        "\n",
        "### Non-OOP Data Representation\n",
        "The most straight-forward way of representing animal data is to use separate variables for each characteristic. This is shown in the code block below."
      ],
      "metadata": {
        "id": "SxcmmYgaBsrL"
      }
    },
    {
      "cell_type": "code",
      "source": [
        "ani1_name = \"Berta\"\n",
        "ani1_id = \"CH120.00.010\"\n",
        "ani1_birthdate = \"20230321\"\n",
        "ani1_sire_id = \"CH120.00.01\"\n",
        "ani1_dam_id = \"CH120.00.05\""
      ],
      "metadata": {
        "id": "LsvojVY_BvCC"
      },
      "execution_count": 1,
      "outputs": []
    },
    {
      "cell_type": "markdown",
      "source": [
        "The above chosen data representation does not use any advanced programming concepts or any advanced data structures. It is just five string variables which is a very slim representation of the available data. A second animal can be shown by just copy-paste the information of the first animal and change the required values and the variable names."
      ],
      "metadata": {
        "id": "lfuTTMbiH7v8"
      }
    },
    {
      "cell_type": "code",
      "source": [
        "ani2_name = \"Emil\"\n",
        "ani2_id = \"CH120.00.011\"\n",
        "ani2_birthdate = \"20221101\"\n",
        "ani2_sire_id = \"CH120.00.02\"\n",
        "ani2_dam_id = \"CH120.00.06\""
      ],
      "metadata": {
        "id": "yyZbl_vGH3Vv"
      },
      "execution_count": 2,
      "outputs": []
    },
    {
      "cell_type": "markdown",
      "source": [],
      "metadata": {
        "id": "l79lDYmfJBA0"
      }
    },
    {
      "cell_type": "code",
      "source": [],
      "metadata": {
        "id": "b2TJd4ozI_R5"
      },
      "execution_count": null,
      "outputs": []
    }
  ]
}