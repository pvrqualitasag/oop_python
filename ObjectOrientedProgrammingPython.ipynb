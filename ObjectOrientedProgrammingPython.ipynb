{
  "nbformat": 4,
  "nbformat_minor": 0,
  "metadata": {
    "colab": {
      "provenance": [],
      "authorship_tag": "ABX9TyOlCtR3oPRTf0RkiCOZ2R8l",
      "include_colab_link": true
    },
    "kernelspec": {
      "name": "python3",
      "display_name": "Python 3"
    },
    "language_info": {
      "name": "python"
    }
  },
  "cells": [
    {
      "cell_type": "markdown",
      "metadata": {
        "id": "view-in-github",
        "colab_type": "text"
      },
      "source": [
        "<a href=\"https://colab.research.google.com/github/pvrqualitasag/oop_python/blob/main/ObjectOrientedProgrammingPython.ipynb\" target=\"_parent\"><img src=\"https://colab.research.google.com/assets/colab-badge.svg\" alt=\"Open In Colab\"/></a>"
      ]
    },
    {
      "cell_type": "markdown",
      "source": [
        "# Object-Oriented Programming in Python\n",
        "The basics of object-oriented programming (OOP) are described. The concept is illustrated and applied with simple examples in Python.\n",
        "\n",
        "## Introduction\n",
        "The technique of OOP describes a specific way how data are modeled and algorithms are designed to solve a specifc problem. In OOP developers put more emphasis on the data compared to other programming techniques where either the sequence of the different operations or the data manipulation are at the center of attention.\n",
        "\n",
        "\n",
        "## Objects\n",
        "That means in OOP, data are represented by so-called objects. From a programatical point of view, objects can be viewed as some sort of user-designed or user-created data types.\n",
        "\n",
        "Objects consist of two different componetents:\n",
        "\n",
        "1. Fields or attributes\n",
        "2. Methods\n",
        "\n",
        "In a given object, attributes are used to represent properties or characteristics of the data which are modeled by that respective object. Methods are used to change attributes or to interact with other objects.\n",
        "\n",
        "\n",
        "## A First Example\n",
        "As a first example, we are writing a program that can be used to manage some data on livestock animals. This data consists of the following characteristics of each animal\n",
        "\n",
        "* Name\n",
        "* ID\n",
        "* Birthdate\n",
        "* Sire-ID\n",
        "* Dam-ID\n",
        "\n",
        "These information items might be obtained from a database or from an input file. In what follows here, we are not going to go into much more details on how this information is made available for our program. We are going to put the main focus on two different ways how the information about animals might be represented in a program. The term __represenation__ of information means how the different information of an animal is stored in our program.\n",
        "\n",
        "\n",
        "## Non-OOP Data Representation\n",
        "We start by using a non-oop representation of the data available for different animals.\n",
        "\n",
        "### Data in Separate Variables\n",
        "The most straight-forward way of representing animal data is to use separate variables for each characteristic. This is shown in the code block below."
      ],
      "metadata": {
        "id": "SxcmmYgaBsrL"
      }
    },
    {
      "cell_type": "code",
      "source": [
        "ani1_name = \"Berta\"\n",
        "ani1_id = \"CH120.00.010\"\n",
        "ani1_birthdate = \"20230321\"\n",
        "ani1_sire_id = \"CH120.00.01\"\n",
        "ani1_dam_id = \"CH120.00.05\""
      ],
      "metadata": {
        "id": "LsvojVY_BvCC"
      },
      "execution_count": 20,
      "outputs": []
    },
    {
      "cell_type": "markdown",
      "source": [
        "The above chosen data representation does not use any advanced programming concepts or any advanced data structures. It is just five string variables which is a very slim representation of the available data. A second animal can be shown by just copy-paste the information of the first animal and change the required values and the variable names."
      ],
      "metadata": {
        "id": "lfuTTMbiH7v8"
      }
    },
    {
      "cell_type": "code",
      "source": [
        "ani2_name = \"Emil\"\n",
        "ani2_id = \"CH120.00.011\"\n",
        "ani2_birthdate = \"20221101\"\n",
        "ani2_sire_id = \"CH120.00.02\"\n",
        "ani2_dam_id = \"CH120.00.06\""
      ],
      "metadata": {
        "id": "yyZbl_vGH3Vv"
      },
      "execution_count": 21,
      "outputs": []
    },
    {
      "cell_type": "markdown",
      "source": [
        "### Working With Data\n",
        "The above data on two animals can be manipulated or presented by functions. If we wanted to show the information on the two animals in a CSV-format, we can do this using the following function `to_csv()`."
      ],
      "metadata": {
        "id": "W1jHNoZxMMha"
      }
    },
    {
      "cell_type": "code",
      "source": [
        "def output_to_csv(ps_ani_name, ps_ani_id, ps_ani_birthdate, ps_ani_sire_id, ps_ani_dam_id):\n",
        "  s_sep_char = \",\"\n",
        "  s_result_char = ps_ani_name + s_sep_char + ps_ani_id + s_sep_char + ps_ani_birthdate + s_sep_char + ps_ani_sire_id + s_sep_char + ps_ani_dam_id\n",
        "  print(s_result_char)\n"
      ],
      "metadata": {
        "id": "b2TJd4ozI_R5"
      },
      "execution_count": 22,
      "outputs": []
    },
    {
      "cell_type": "markdown",
      "source": [
        "For the two animal defined so far, the function can be called as follows."
      ],
      "metadata": {
        "id": "FFs_jxrQNmQk"
      }
    },
    {
      "cell_type": "code",
      "source": [
        "output_to_csv(ps_ani_name = ani1_name, ps_ani_id = ani1_id, ps_ani_birthdate = ani1_birthdate, ps_ani_sire_id = ani1_sire_id, ps_ani_dam_id = ani1_dam_id)"
      ],
      "metadata": {
        "colab": {
          "base_uri": "https://localhost:8080/"
        },
        "id": "5TFSCTi4NxNn",
        "outputId": "95c7124f-eccb-44fe-84eb-7b9d777bea48"
      },
      "execution_count": 23,
      "outputs": [
        {
          "output_type": "stream",
          "name": "stdout",
          "text": [
            "Berta,CH120.00.010,20230321,CH120.00.01,CH120.00.05\n"
          ]
        }
      ]
    },
    {
      "cell_type": "markdown",
      "source": [
        "Similarly for the second animal"
      ],
      "metadata": {
        "id": "BEfINbkbOvlh"
      }
    },
    {
      "cell_type": "code",
      "source": [
        "output_to_csv(ps_ani_name = ani2_name, ps_ani_id = ani2_id, ps_ani_birthdate = ani2_birthdate, ps_ani_sire_id = ani2_sire_id, ps_ani_dam_id = ani2_dam_id)"
      ],
      "metadata": {
        "colab": {
          "base_uri": "https://localhost:8080/"
        },
        "id": "VWhBqOpKOyv2",
        "outputId": "e38c1188-4a81-448e-9ef2-0028b2e8839f"
      },
      "execution_count": 24,
      "outputs": [
        {
          "output_type": "stream",
          "name": "stdout",
          "text": [
            "Emil,CH120.00.011,20221101,CH120.00.02,CH120.00.06\n"
          ]
        }
      ]
    },
    {
      "cell_type": "markdown",
      "source": [
        "A more meaningful function might be the computation of the age of the animal in days. One possible function to do this is shown below."
      ],
      "metadata": {
        "id": "MYGQY4_XO-IQ"
      }
    },
    {
      "cell_type": "code",
      "source": [
        "import datetime\n",
        "def compute_age_in_days(ps_birth_date, ps_format = \"%Y%m%d\"):\n",
        "  dt_birth_date = datetime.datetime.strptime(ps_birth_date, ps_format).date()\n",
        "  delta = datetime.datetime.now().date() - dt_birth_date\n",
        "  return(delta.days)"
      ],
      "metadata": {
        "id": "uWdJn-rzQAxa"
      },
      "execution_count": 25,
      "outputs": []
    },
    {
      "cell_type": "markdown",
      "source": [
        "The age in days for the two animals is obtained by"
      ],
      "metadata": {
        "id": "BMRzsWT8Rcks"
      }
    },
    {
      "cell_type": "code",
      "source": [
        "print(compute_age_in_days(ps_birth_date = ani1_birthdate))\n",
        "print(compute_age_in_days(ps_birth_date = ani2_birthdate))\n"
      ],
      "metadata": {
        "colab": {
          "base_uri": "https://localhost:8080/"
        },
        "id": "N4vN6iIERhK5",
        "outputId": "7b16a394-1c9c-4e7b-fcb0-e5d4c91cd28f"
      },
      "execution_count": 26,
      "outputs": [
        {
          "output_type": "stream",
          "name": "stdout",
          "text": [
            "379\n",
            "519\n"
          ]
        }
      ]
    },
    {
      "cell_type": "markdown",
      "source": [
        "### Conclusion\n",
        "The representation of animal data using separate variables allows to develop simple prototypes very quickly. The data can be manipulated using functions. The drawback of this approach is that there is no explicit grouping of the inforamtion for a given animal.\n",
        "\n",
        "Furthermore, the approach using separate variables does not provide a solution to read information for a large number of animals from a file or from a database.\n",
        "\n",
        "In summary, the use of separate variables to work with information on animals is not the recommended way to be used in a program that aims at managing animal information. The reason for showing this here is to give a contrast to the later proposed solutions."
      ],
      "metadata": {
        "id": "Fc85HFH4VRw1"
      }
    },
    {
      "cell_type": "markdown",
      "source": [
        "## Data in a Dictionary - A First Improvement\n",
        "A first improvement consist of organising the animal data in a dictionary. A dictionary is a very popular and very useful built-in python datastructure. It is based on a `key:value` architecture. The information on the above animals can be represented in dictionaries as shown below."
      ],
      "metadata": {
        "id": "d7bskDgcWl8s"
      }
    },
    {
      "cell_type": "code",
      "source": [
        "ani1_dict = {\"name\": \"Berta\", \"id\": \"CH120.00.010\", \"birthdate\": \"20230321\", \"sire_id\": \"CH120.00.01\", \"dam_id\": \"CH120.00.05\"}\n",
        "ani2_dict = {\"name\": \"Emil\", \"id\": \"CH120.00.011\", \"birthdate\": \"20221101\", \"sire_id\": \"CH120.00.02\", \"dam_id\": \"CH120.00.06\"}\n"
      ],
      "metadata": {
        "id": "m00SQjmkWiDk"
      },
      "execution_count": 27,
      "outputs": []
    },
    {
      "cell_type": "markdown",
      "source": [
        "The function to output information on animals to csv can be modified in the following way."
      ],
      "metadata": {
        "id": "DCGejEebbUce"
      }
    },
    {
      "cell_type": "code",
      "source": [
        "def output_dict_to_csv(pd_ani_dict):\n",
        "  s_sep_char = \",\"\n",
        "  s_result_char = pd_ani_dict[\"name\"] + s_sep_char + pd_ani_dict[\"id\"] + s_sep_char + pd_ani_dict[\"birthdate\"] + s_sep_char + pd_ani_dict[\"sire_id\"] + s_sep_char + pd_ani_dict[\"dam_id\"]\n",
        "  return(s_result_char)\n",
        "\n",
        "# call for both animals\n",
        "print(output_dict_to_csv(pd_ani_dict = ani1_dict))\n",
        "print(output_dict_to_csv(pd_ani_dict = ani2_dict))"
      ],
      "metadata": {
        "colab": {
          "base_uri": "https://localhost:8080/"
        },
        "id": "wYxWIILqbxTo",
        "outputId": "0bf3da87-6b78-4717-c068-7d61f9bd626e"
      },
      "execution_count": 28,
      "outputs": [
        {
          "output_type": "stream",
          "name": "stdout",
          "text": [
            "Berta,CH120.00.010,20230321,CH120.00.01,CH120.00.05\n",
            "Emil,CH120.00.011,20221101,CH120.00.02,CH120.00.06\n"
          ]
        }
      ]
    },
    {
      "cell_type": "markdown",
      "source": [
        "The computation of the age in days can be done with the already available function, we just have to modify the call"
      ],
      "metadata": {
        "id": "5VaFbTTDeLMH"
      }
    },
    {
      "cell_type": "code",
      "source": [
        "print(compute_age_in_days(ps_birth_date = ani1_dict[\"birthdate\"]))\n",
        "print(compute_age_in_days(ps_birth_date = ani2_dict[\"birthdate\"]))"
      ],
      "metadata": {
        "colab": {
          "base_uri": "https://localhost:8080/"
        },
        "id": "odhSQBmceVZH",
        "outputId": "e23b510b-394b-43a4-e064-342686257de9"
      },
      "execution_count": 29,
      "outputs": [
        {
          "output_type": "stream",
          "name": "stdout",
          "text": [
            "379\n",
            "519\n"
          ]
        }
      ]
    },
    {
      "cell_type": "markdown",
      "source": [
        "### Conclusion\n",
        "The representation of the animal data in a dictionary is an improvement. The data of a given animal is grouped together in one instance of a dictionary.\n",
        "\n",
        "The disadvantage of using dictionaries to store animal data is that any function that uses a dictionary as an argument, needs to know about the structure of the dictionary. One example of such a function is the above shown function `output_dict_to_csv()`. Inside of that function, the keys of the dictionary must be known. Any change of the keys of the dictionary has consequences to any function that internally uses the keys of the dictionary."
      ],
      "metadata": {
        "id": "4IZ3j012euPj"
      }
    },
    {
      "cell_type": "markdown",
      "source": [
        "## Data Representation Using Objects\n",
        "A different approach to represent infomration on different animals is via objects. From a programming point of view, objects can understood as user-defined data types. This means, instead of storing information in string variables or in dictionaries, we create our own datatype to store information on animals.\n",
        "\n",
        "### Class Definition\n",
        "User-defined data types can be constructed using a programmatic construct called __class__. An example of such a class to store animal information can be defined in python as shown in the next code chunk."
      ],
      "metadata": {
        "id": "n4oK8iPtgzxN"
      }
    },
    {
      "cell_type": "code",
      "source": [
        "class Animal:\n",
        "  \"\"\"Representation of animal information\"\"\"\n",
        "  def __init__(self) -> None:\n",
        "    \"\"\"Empty constructor\"\"\"\n",
        "    self.name = None\n",
        "    self.id = None\n",
        "    self.birthdate = None\n",
        "    self.sire_id = None\n",
        "    self.dam_id = None\n"
      ],
      "metadata": {
        "id": "qc28BrcAiZ4i"
      },
      "execution_count": 30,
      "outputs": []
    },
    {
      "cell_type": "markdown",
      "source": [
        "So far, the class animal contains just the function `__init__` which is called constructor. This function is executed whenever a new object of type animal is created as shown below. The current version of the constructor assigns default values (`None`) to different elements of something that is called `self`. The token `self` refers to the object it-self and the elements `id`, `name`, `birthdate`, `sire_id` and `dam_id` are attributes of the class.\n",
        "\n",
        "This shows how attributes are introduced in a class. So far any given attribute `attr`, the constructor has to have an assignment like `self.attr = <some_value>`.\n",
        "\n",
        "\n",
        "### Object Creation\n",
        "The definition of class `Animal` can be used to create instances of animal objects. Objects for the two animals used above can be created as follows"
      ],
      "metadata": {
        "id": "igNE2VraXDN3"
      }
    },
    {
      "cell_type": "code",
      "source": [
        "obj_ani1 = Animal()\n",
        "obj_ani2 = Animal()"
      ],
      "metadata": {
        "id": "bp1rsSDYXfGW"
      },
      "execution_count": 31,
      "outputs": []
    },
    {
      "cell_type": "markdown",
      "source": [
        "### Direct Assignment\n",
        "After creating two animal objects, information on the two animals have to be entered into the objects. One way of doing this is via __direct assignment__. This is done by taking the name of the object and the name of the attribute separated by a dot and assign any value to that construct. For the two animals this would look as shown below."
      ],
      "metadata": {
        "id": "-sCQjQ89Xl5p"
      }
    },
    {
      "cell_type": "code",
      "source": [
        "obj_ani1.name = \"Berta\"\n",
        "obj_ani1.id = \"CH120.00.010\"\n",
        "obj_ani1.birthdate = \"20230321\"\n",
        "obj_ani1.sire_id = \"CH120.00.01\"\n",
        "obj_ani1.dam_id = \"CH120.00.05\"\n"
      ],
      "metadata": {
        "id": "LExGuE5Gbdy-"
      },
      "execution_count": 32,
      "outputs": []
    },
    {
      "cell_type": "markdown",
      "source": [
        "The entered values can be accessed by the token `<obj_name>.<attributed>`."
      ],
      "metadata": {
        "id": "Q2ZgVVQFb9A2"
      }
    },
    {
      "cell_type": "code",
      "source": [
        "print(obj_ani1.name)\n",
        "print(obj_ani1.id)\n",
        "print(obj_ani1.birthdate)\n",
        "print(obj_ani1.sire_id)\n",
        "print(obj_ani1.dam_id)"
      ],
      "metadata": {
        "colab": {
          "base_uri": "https://localhost:8080/"
        },
        "id": "zOu85v39cGmA",
        "outputId": "da84275b-8e3a-4e65-93d1-81e37f1ee85c"
      },
      "execution_count": 33,
      "outputs": [
        {
          "output_type": "stream",
          "name": "stdout",
          "text": [
            "Berta\n",
            "CH120.00.010\n",
            "20230321\n",
            "CH120.00.01\n",
            "CH120.00.05\n"
          ]
        }
      ]
    },
    {
      "cell_type": "markdown",
      "source": [
        "While the input of data into an object via direct assignment and the access of that information via a call to `<obj_name>.<attributed>` is possible, it is not the recommended way for an object-oriented software architecture. The reason why direct assignments and direct access should be avoided is that they require, knowledge about the internals of the class attributes. If these attributes change, all the code that uses these attributes has to be changed also. The dependency between class structure and code that uses object attributes directly is comparable to the dependency that we have already seen with dictionaries.\n",
        "\n"
      ],
      "metadata": {
        "id": "ioxrFR3mcjO2"
      }
    },
    {
      "cell_type": "markdown",
      "source": [
        "## Class Interface\n",
        "Instead of using object attributes directly, a so-called interface of a class is defined. In contrast to object attributes which might change quite often during the lifetime of a program, the class interface has to be developed such that it can be kept as stable as possible over the lifetime of a program.\n",
        "\n",
        "To define a class interface for our example class `Animal`, we have to add methods to the class definition. This is done as shown below."
      ],
      "metadata": {
        "id": "OxazJwxl3XXO"
      }
    },
    {
      "cell_type": "code",
      "source": [
        "class Animal:\n",
        "  \"\"\"Representation of animal information\"\"\"\n",
        "  def __init__(self) -> None:\n",
        "    \"\"\"Empty constructor\"\"\"\n",
        "    self.name = None\n",
        "    self.id = None\n",
        "    self.birthdate = None\n",
        "    self.sire_id = None\n",
        "    self.dam_id = None\n",
        "  # getter and setter for name\n",
        "  def set_name(self, ps_ani_name: str) -> None:\n",
        "    \"\"\"Set name of animal\"\"\"\n",
        "    self.name = ps_ani_name\n",
        "  def get_name(self) -> str:\n",
        "    \"\"\"Get name of animal\"\"\"\n",
        "    return(self.name)\n",
        "  # getter and setter for ID\n",
        "  def set_id(self, ps_ani_id: str) -> None:\n",
        "    \"\"\"Set ID of animal\"\"\"\n",
        "    self.id = ps_ani_id\n",
        "  def get_id(self) -> str:\n",
        "    \"\"\"Get ID of animal\"\"\"\n",
        "    return(self.id)\n",
        "  # getter and setter for birthdate\n",
        "  def set_birthdate(self, ps_birthdate: str) -> None:\n",
        "    \"\"\"Set birthdate of animal\"\"\"\n",
        "    self.birthdate = ps_birthdate\n",
        "  def get_birthdate(self) -> str:\n",
        "    \"\"\"Get birthdate of animal\"\"\"\n",
        "    return(self.birthdate)\n",
        "  # getter and setter for sire ID\n",
        "  def set_sire_id(self, ps_sire_id: str) -> None:\n",
        "    \"\"\"Set ID of sire of animal\"\"\"\n",
        "    self.sire_id = ps_sire_id\n",
        "  def get_sire_id(self) -> str:\n",
        "    \"\"\"Get ID of sire of animal\"\"\"\n",
        "    return(self.sire_id)\n",
        "  # getter and setter for dam ID\n",
        "  def set_dam_id(self, ps_dam_id: str) -> None:\n",
        "    \"\"\"Set dam ID for animal\"\"\"\n",
        "    self.dam_id = ps_dam_id\n",
        "  def get_dam_id(self) -> str:\n",
        "    \"\"\"Get ID of dam of animal\"\"\"\n",
        "    return(self.dam_id)\n"
      ],
      "metadata": {
        "id": "hLr-qhBg7pLr"
      },
      "execution_count": 34,
      "outputs": []
    },
    {
      "cell_type": "markdown",
      "source": [
        "The class interface of the extended version of class `Animal` is the declaration of all these functions inside of the class and the corresponding documentations of these functions. These functions are called __methods__ of the class. Hence for our example, the interface is defined as\n",
        "\n",
        "\n",
        "```\n",
        "set_name(self, ps_ani_name: str) -> None:\n",
        "  \"\"\"Set name of animal\"\"\"\n",
        "\n",
        "get_name(self) -> str:\n",
        "  \"\"\"Get name of animal\"\"\"\n",
        "\n",
        "set_id(self, ps_ani_id: str) -> None:\n",
        "  \"\"\"Set ID of animal\"\"\"\n",
        "\n",
        "get_id(self) -> str:\n",
        "  \"\"\"Get ID of animal\"\"\"\n",
        "\n",
        "set_birthdate(self, ps_birthdate: str) -> None:\n",
        "  \"\"\"Set birthdate of animal\"\"\"\n",
        "\n",
        "get_birthdate(self) -> str:\n",
        "  \"\"\"Get birthdate of animal\"\"\"\n",
        "\n",
        "set_sire_id(self, ps_sire_id: str) -> None:\n",
        "  \"\"\"Set ID of sire of animal\"\"\"\n",
        "\n",
        "get_sire_id(self) -> str:\n",
        "  \"\"\"Get ID of sire of animal\"\"\"\n",
        "\n",
        "set_dam_id(self, ps_dam_id: str) -> None:\n",
        "  \"\"\"Set dam ID for animal\"\"\"\n",
        "\n",
        "get_dam_id(self) -> str:\n",
        "  \"\"\"Get ID of dam of animal\"\"\"\n",
        "```\n",
        "\n",
        "The interface definiton tells the user what the different features of the class are and how to work with an object created from the class. Hence the input of the data to a given object using the interface definition has to done according to the following code chunk."
      ],
      "metadata": {
        "id": "9jKfV0ZE-eWp"
      }
    },
    {
      "cell_type": "code",
      "source": [
        "obj_ani1 = Animal()\n",
        "obj_ani1.set_name(ps_ani_name = \"Berta\")\n",
        "obj_ani1.set_id(ps_ani_id = \"CH120.00.010\")\n",
        "obj_ani1.set_birthdate(ps_birthdate = \"20230321\")\n",
        "obj_ani1.set_sire_id(ps_sire_id = \"CH120.00.01\")\n",
        "obj_ani1.set_dam_id(ps_dam_id = \"CH120.00.05\")"
      ],
      "metadata": {
        "id": "ZCcYnArRDshh"
      },
      "execution_count": 35,
      "outputs": []
    },
    {
      "cell_type": "markdown",
      "source": [
        "The information is accessed via the getter methods"
      ],
      "metadata": {
        "id": "B_A81H1FEeXR"
      }
    },
    {
      "cell_type": "code",
      "source": [
        "print(obj_ani1.get_name())\n",
        "print(obj_ani1.get_id())\n",
        "print(obj_ani1.get_birthdate())\n",
        "print(obj_ani1.get_sire_id())\n",
        "print(obj_ani1.get_dam_id())"
      ],
      "metadata": {
        "colab": {
          "base_uri": "https://localhost:8080/"
        },
        "id": "qGcA9sahEipi",
        "outputId": "bd6d2811-c8cd-4c41-bf53-8077673234b4"
      },
      "execution_count": 36,
      "outputs": [
        {
          "output_type": "stream",
          "name": "stdout",
          "text": [
            "Berta\n",
            "CH120.00.010\n",
            "20230321\n",
            "CH120.00.01\n",
            "CH120.00.05\n"
          ]
        }
      ]
    },
    {
      "cell_type": "markdown",
      "source": [
        "At this point the benefit of working with an interface definition instead of directly assigning or accessing object attributes might not be straight-forward.  "
      ],
      "metadata": {
        "id": "RKayX04yPD9L"
      }
    },
    {
      "cell_type": "markdown",
      "source": [
        "## Abstraction\n",
        "One benefit consist in a property of object-oriented software architecture. This property is referred to as __abstraction__. The term abstraction stands for the de-coupling of the class interface from the class attributes. To show this for our example class `Animal`, we have to extend it with the trait `age in days` of the animal.\n",
        "\n",
        "A first idea of modelling such a trait might be to add an attribute to the definition of class `Animal`. But this would add redundancy to the set of attributes, because the same information is already available in the attribute `birthdate`. Redundancy in the set of attributes is not recommended, because this might lead to inconsistent information inside of an object. This can be avoided by adding the property `age in days` to the interface definition via a setter- and a getter-method. But in the class definition, the value for `age in days` is computed and not stored. The following extension of the class definition gives an implementation of this abstraction principle."
      ],
      "metadata": {
        "id": "ph_tL9LhP2_1"
      }
    },
    {
      "cell_type": "code",
      "source": [
        "import datetime\n",
        "\n",
        "class Animal:\n",
        "  \"\"\"Representation of animal information\"\"\"\n",
        "  def __init__(self) -> None:\n",
        "    \"\"\"Empty constructor\"\"\"\n",
        "    self.name = None\n",
        "    self.id = None\n",
        "    self.birthdate = None\n",
        "    self.sire_id = None\n",
        "    self.dam_id = None\n",
        "  # getter and setter for name\n",
        "  def set_name(self, ps_ani_name: str) -> None:\n",
        "    \"\"\"Set name of animal\"\"\"\n",
        "    self.name = ps_ani_name\n",
        "  def get_name(self) -> str:\n",
        "    \"\"\"Get name of animal\"\"\"\n",
        "    return(self.name)\n",
        "  # getter and setter for ID\n",
        "  def set_id(self, ps_ani_id: str) -> None:\n",
        "    \"\"\"Set ID of animal\"\"\"\n",
        "    self.id = ps_ani_id\n",
        "  def get_id(self) -> str:\n",
        "    \"\"\"Get ID of animal\"\"\"\n",
        "    return(self.id)\n",
        "  # getter and setter for birthdate\n",
        "  def set_birthdate(self, ps_birthdate: str) -> None:\n",
        "    \"\"\"Set birthdate of animal\"\"\"\n",
        "    self.birthdate = ps_birthdate\n",
        "  def get_birthdate(self) -> str:\n",
        "    \"\"\"Get birthdate of animal\"\"\"\n",
        "    return(self.birthdate)\n",
        "  # getter and setter for sire ID\n",
        "  def set_sire_id(self, ps_sire_id: str) -> None:\n",
        "    \"\"\"Set ID of sire of animal\"\"\"\n",
        "    self.sire_id = ps_sire_id\n",
        "  def get_sire_id(self) -> str:\n",
        "    \"\"\"Get ID of sire of animal\"\"\"\n",
        "    return(self.sire_id)\n",
        "  # getter and setter for dam ID\n",
        "  def set_dam_id(self, ps_dam_id: str) -> None:\n",
        "    \"\"\"Set dam ID for animal\"\"\"\n",
        "    self.dam_id = ps_dam_id\n",
        "  def get_dam_id(self) -> str:\n",
        "    \"\"\"Get ID of dam of animal\"\"\"\n",
        "    return(self.dam_id)\n",
        "  # getter and setter for age in days\n",
        "  def set_age_in_days(self, pn_age_in_days: int) -> None:\n",
        "    \"\"\"Set age in days of animal\"\"\"\n",
        "    bdate = datetime.datetime.now().date() - datetime.timedelta(days = pn_age_in_days)\n",
        "    self.birthdate = bdate.strftime(\"%Y%m%d\")\n",
        "  def get_age_in_days(self) -> int:\n",
        "    \"\"\"Get age in days of animal\"\"\"\n",
        "    dt_birth_date = datetime.datetime.strptime(self.birthdate, \"%Y%m%d\").date()\n",
        "    delta = datetime.datetime.now().date() - dt_birth_date\n",
        "    return(delta.days)\n",
        "\n"
      ],
      "metadata": {
        "id": "r2Tyzy8hSNlb"
      },
      "execution_count": 37,
      "outputs": []
    },
    {
      "cell_type": "markdown",
      "source": [
        "Input of the data for the first animal is still the same. With the new class interface definition, we also have the trait `age in days` available. Thanks to abstraction, it is not visible to the user of the class `Animal`, which properties are stored as attributes and which properties are computed."
      ],
      "metadata": {
        "id": "GWiQJoCuVXSb"
      }
    },
    {
      "cell_type": "code",
      "source": [
        "obj_ani1 = Animal()\n",
        "obj_ani1.set_name(ps_ani_name = \"Berta\")\n",
        "obj_ani1.set_id(ps_ani_id = \"CH120.00.010\")\n",
        "obj_ani1.set_birthdate(ps_birthdate = \"20230321\")\n",
        "obj_ani1.set_sire_id(ps_sire_id = \"CH120.00.01\")\n",
        "obj_ani1.set_dam_id(ps_dam_id = \"CH120.00.05\")\n",
        "# access\n",
        "print(obj_ani1.get_name())\n",
        "print(obj_ani1.get_id())\n",
        "print(obj_ani1.get_birthdate())\n",
        "print(obj_ani1.get_sire_id())\n",
        "print(obj_ani1.get_dam_id())\n",
        "print(obj_ani1.get_age_in_days())"
      ],
      "metadata": {
        "colab": {
          "base_uri": "https://localhost:8080/"
        },
        "id": "_Y3nBg-CV5aH",
        "outputId": "0be4023e-08cb-4811-9f40-34a8618c66bd"
      },
      "execution_count": 38,
      "outputs": [
        {
          "output_type": "stream",
          "name": "stdout",
          "text": [
            "Berta\n",
            "CH120.00.010\n",
            "20230321\n",
            "CH120.00.01\n",
            "CH120.00.05\n",
            "379\n"
          ]
        }
      ]
    },
    {
      "cell_type": "markdown",
      "source": [
        "The age in days can also be changed using the corresponding setter method. This should automatically update the birthdate."
      ],
      "metadata": {
        "id": "BG-WddNZWSzk"
      }
    },
    {
      "cell_type": "code",
      "source": [
        "# change age in days to 500 days\n",
        "obj_ani1.set_age_in_days(pn_age_in_days=500)\n",
        "print(obj_ani1.get_age_in_days())\n",
        "print(obj_ani1.get_birthdate())"
      ],
      "metadata": {
        "colab": {
          "base_uri": "https://localhost:8080/"
        },
        "id": "XaLpnf9oWcOl",
        "outputId": "4f49639d-67c3-4941-9546-b05d59c7d2e8"
      },
      "execution_count": 40,
      "outputs": [
        {
          "output_type": "stream",
          "name": "stdout",
          "text": [
            "500\n",
            "20221120\n"
          ]
        }
      ]
    }
  ]
}